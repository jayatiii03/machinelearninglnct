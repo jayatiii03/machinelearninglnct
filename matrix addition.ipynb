{
  "nbformat": 4,
  "nbformat_minor": 0,
  "metadata": {
    "colab": {
      "provenance": [],
      "authorship_tag": "ABX9TyP2aD4tb+7ASDfQ6eCQgVbe",
      "include_colab_link": true
    },
    "kernelspec": {
      "name": "python3",
      "display_name": "Python 3"
    },
    "language_info": {
      "name": "python"
    }
  },
  "cells": [
    {
      "cell_type": "markdown",
      "metadata": {
        "id": "view-in-github",
        "colab_type": "text"
      },
      "source": [
        "<a href=\"https://colab.research.google.com/github/jayatiii03/machinelearninglnct/blob/main/matrix%20addition.ipynb\" target=\"_parent\"><img src=\"https://colab.research.google.com/assets/colab-badge.svg\" alt=\"Open In Colab\"/></a>"
      ]
    },
    {
      "cell_type": "code",
      "execution_count": 1,
      "metadata": {
        "colab": {
          "base_uri": "https://localhost:8080/"
        },
        "id": "zJMzFjMdKegi",
        "outputId": "a0ac831d-c444-4fbb-c445-64625c96fea8"
      },
      "outputs": [
        {
          "output_type": "stream",
          "name": "stdout",
          "text": [
            "[[ 4  6]\n",
            " [ 6  8]\n",
            " [10 12]]\n"
          ]
        }
      ],
      "source": [
        "import numpy as np\n",
        "X = np.array([[1,2],[2,3],[4,5]])\n",
        "Y = np.array([[3,4],[4,5],[6,7]])\n",
        "Z = X + Y\n",
        "print(Z)"
      ]
    }
  ]
}