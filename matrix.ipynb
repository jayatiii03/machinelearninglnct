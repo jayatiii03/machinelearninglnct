{
  "nbformat": 4,
  "nbformat_minor": 0,
  "metadata": {
    "colab": {
      "provenance": [],
      "authorship_tag": "ABX9TyNvdcAYwSiba6HHGSKMZFwp",
      "include_colab_link": true
    },
    "kernelspec": {
      "name": "python3",
      "display_name": "Python 3"
    },
    "language_info": {
      "name": "python"
    }
  },
  "cells": [
    {
      "cell_type": "markdown",
      "metadata": {
        "id": "view-in-github",
        "colab_type": "text"
      },
      "source": [
        "<a href=\"https://colab.research.google.com/github/jayatiii03/machinelearninglnct/blob/main/matrix.ipynb\" target=\"_parent\"><img src=\"https://colab.research.google.com/assets/colab-badge.svg\" alt=\"Open In Colab\"/></a>"
      ]
    },
    {
      "cell_type": "code",
      "execution_count": 7,
      "metadata": {
        "colab": {
          "base_uri": "https://localhost:8080/"
        },
        "id": "z2Ub3rtt3SEN",
        "outputId": "7c969487-beba-412b-c5b6-1c3c9519f992"
      },
      "outputs": [
        {
          "output_type": "stream",
          "name": "stdout",
          "text": [
            "enter the row:2\n",
            "enter the column: 4\n",
            "enter the matrix rowise\n",
            "1\n",
            "2\n",
            "3\n",
            "4\n",
            "5\n",
            "6\n",
            "7\n",
            "8\n",
            "print the matrix:\n",
            "1 2 3 4 \n",
            "5 6 7 8 \n"
          ]
        }
      ],
      "source": [
        "r = int(input(\"enter the row:\"))\n",
        "c = int(input(\"enter the column: \"))\n",
        "\n",
        "matrix = []\n",
        "print(\"enter the matrix rowise\")\n",
        "\n",
        "for i in range(r):\n",
        "    x =[]             # x= extra list\n",
        "    for j in range(c):\n",
        "        x.append(int(input(\"\")))\n",
        "    matrix.append(x)\n",
        "\n",
        "print(\"print the matrix:\")\n",
        "for i in range(r):\n",
        "     for j in range(c):\n",
        "        print(matrix[i][j], end = \" \")\n",
        "     print()"
      ]
    }
  ]
}