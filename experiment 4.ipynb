{
  "nbformat": 4,
  "nbformat_minor": 0,
  "metadata": {
    "colab": {
      "provenance": [],
      "authorship_tag": "ABX9TyPY548od8zB5/vSPAEJhfwo",
      "include_colab_link": true
    },
    "kernelspec": {
      "name": "python3",
      "display_name": "Python 3"
    },
    "language_info": {
      "name": "python"
    }
  },
  "cells": [
    {
      "cell_type": "markdown",
      "metadata": {
        "id": "view-in-github",
        "colab_type": "text"
      },
      "source": [
        "<a href=\"https://colab.research.google.com/github/jayatiii03/machinelearninglnct/blob/main/experiment%204.ipynb\" target=\"_parent\"><img src=\"https://colab.research.google.com/assets/colab-badge.svg\" alt=\"Open In Colab\"/></a>"
      ]
    },
    {
      "cell_type": "code",
      "execution_count": 1,
      "metadata": {
        "colab": {
          "base_uri": "https://localhost:8080/"
        },
        "id": "0M-KloXPtYJY",
        "outputId": "7455c26c-3429-4299-b8a1-d173e4f72f35"
      },
      "outputs": [
        {
          "output_type": "stream",
          "name": "stdout",
          "text": [
            "The probability that it is Friday a 0.2\n",
            "The probability that it is Friday and that a student is absentis  0.03\n",
            "the probability that a student is absent given that today is Friday? 15.0 %\n"
          ]
        }
      ],
      "source": [
        "poF = 20/100\n",
        "print(\"The probability that it is Friday a\",poF)\n",
        "poAF = 3/100\n",
        "print(\"The probability that it is Friday and that a student is absentis \",poAF)\n",
        "pAF = (poAF/poF)*100\n",
        "print(\"the probability that a student is absent given that today is Friday?\",pAF,\"%\")"
      ]
    }
  ]
}