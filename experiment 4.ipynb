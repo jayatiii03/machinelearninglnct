{
  "nbformat": 4,
  "nbformat_minor": 0,
  "metadata": {
    "colab": {
      "provenance": [],
      "authorship_tag": "ABX9TyOkz9xV9tVix5GUdtzXHWij",
      "include_colab_link": true
    },
    "kernelspec": {
      "name": "python3",
      "display_name": "Python 3"
    },
    "language_info": {
      "name": "python"
    }
  },
  "cells": [
    {
      "cell_type": "markdown",
      "metadata": {
        "id": "view-in-github",
        "colab_type": "text"
      },
      "source": [
        "<a href=\"https://colab.research.google.com/github/jayatiii03/machinelearninglnct/blob/main/experiment%204.ipynb\" target=\"_parent\"><img src=\"https://colab.research.google.com/assets/colab-badge.svg\" alt=\"Open In Colab\"/></a>"
      ]
    },
    {
      "cell_type": "code",
      "execution_count": 2,
      "metadata": {
        "colab": {
          "base_uri": "https://localhost:8080/"
        },
        "id": "0M-KloXPtYJY",
        "outputId": "f6d5eef1-0929-4597-e983-ca3ea0cade37"
      },
      "outputs": [
        {
          "output_type": "stream",
          "name": "stdout",
          "text": [
            "The probability that it is Friday a 0.2\n",
            "The probability that it is Friday and that a student is absentis  0.03\n",
            "the probability that a student is absent given that today is Friday? 0.15\n"
          ]
        }
      ],
      "source": [
        "poF = 20/100\n",
        "print(\"The probability that it is Friday a\",poF)\n",
        "poAF = 3/100\n",
        "print(\"The probability that it is Friday and that a student is absentis \",poAF)\n",
        "pAF = poAF/poF\n",
        "print(\"the probability that a student is absent given that today is Friday?\",pAF)"
      ]
    }
  ]
}